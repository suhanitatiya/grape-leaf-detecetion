{
  "cells": [
    {
      "cell_type": "markdown",
      "metadata": {
        "id": "view-in-github",
        "colab_type": "text"
      },
      "source": [
        "<a href=\"https://colab.research.google.com/github/suhanitatiya/grape-leaf-detecetion/blob/main/1_prepare_dataset.ipynb\" target=\"_parent\"><img src=\"https://colab.research.google.com/assets/colab-badge.svg\" alt=\"Open In Colab\"/></a>"
      ]
    },
    {
      "cell_type": "markdown",
      "metadata": {
        "id": "Iqq7R88B2gM2"
      },
      "source": [
        "# Preparing Dataset"
      ]
    },
    {
      "cell_type": "markdown",
      "metadata": {
        "id": "K9YdL-e62gM4"
      },
      "source": [
        "This notebook presents a class that handles preparing the dataset into a standardized format that is recognized for the image dataset pipeline. Expects to take as input a data path of folders of images where each folder name is a unique class and the images within the folder are the corresponding class instances."
      ]
    },
    {
      "cell_type": "markdown",
      "metadata": {
        "id": "WOosDxKE2gM5"
      },
      "source": [
        "## Module Imports"
      ]
    },
    {
      "cell_type": "code",
      "execution_count": null,
      "metadata": {
        "id": "V7uQ7Fqj2gM5"
      },
      "outputs": [],
      "source": [
        "from __future__ import absolute_import\n",
        "from __future__ import division\n",
        "from __future__ import print_function\n",
        "from __future__ import unicode_literals\n",
        "\n",
        "import os\n",
        "import math\n",
        "import time\n",
        "import random\n",
        "import shutil\n",
        "import pandas as pd\n",
        "import matplotlib.pyplot as plt\n",
        "from collections import OrderedDict\n",
        "\n",
        "# Set random seed for consistency\n",
        "random.seed(100)\n",
        "\n",
        "# Displays all outputs of a cell (not just last output)\n",
        "from IPython.core.interactiveshell import InteractiveShell\n",
        "InteractiveShell.ast_node_interactivity = 'all'\n",
        "\n",
        "%matplotlib inline\n",
        "plt.rcParams['figure.figsize'] = [12, 5]"
      ]
    },
    {
      "cell_type": "markdown",
      "metadata": {
        "id": "NHpF84kW2gM7"
      },
      "source": [
        "## Define Dataset Directories"
      ]
    },
    {
      "cell_type": "markdown",
      "metadata": {
        "id": "Z5SK3-Yq2gM7"
      },
      "source": [
        "We expect the dataset to be in a `Data` directory containing several folders of images where the name of the folder corresponds to the unique data `Class` that we are interested in. For example, this project consists of three unique classes of grape diseases and one negative class for healthy leaves: `Black Measles`, `Black Rot`, `Leaf Blight`, and `Healthy`.\n",
        "\n",
        "Example of data directory file structure.\n",
        "```\n",
        "${DISEASE_ROOT}\n",
        "|--data\n",
        "   |-- black_measles\n",
        "   |   |-- black_measles0.jpg\n",
        "   |   |-- black_measles1.jpg\n",
        "   |   |-- ...\n",
        "   |-- black_rot\n",
        "   |   |-- black_rot0.jpg\n",
        "   |   |-- black_rot1.jpg\n",
        "   |   |-- ...\n",
        "   |-- healthy\n",
        "   |   |-- healthy0.jpg\n",
        "   |   |-- healthy1.jpg\n",
        "   |   |-- ...\n",
        "   |-- leaf_blight\n",
        "   |   |-- leaf_blight0.jpg\n",
        "   |   |-- leaf_blight1.jpg\n",
        "   |   |-- ...\n",
        "```"
      ]
    },
    {
      "cell_type": "markdown",
      "metadata": {
        "id": "5pWNQljo2gM7"
      },
      "source": [
        "The below class helps prepare the dataset provided by a user to split it into train/validation/test in the proper format required to feed into a Keras ImageDataGenerator pipeline."
      ]
    },
    {
      "cell_type": "code",
      "execution_count": null,
      "metadata": {
        "id": "aV2uzeE32gM7"
      },
      "outputs": [],
      "source": [
        "class DatasetPreparer:\n",
        "    \"\"\"Class to prepare data and split into train/val/test\n",
        "    in a format which is compatible with Keras. Expects data\n",
        "    directory structure where folders represent unique class\n",
        "    names and contains corresponding class images.\n",
        "    \"\"\"\n",
        "    def __init__(self, datapath):\n",
        "        self.datapath = datapath\n",
        "        self.classes = None\n",
        "        self.total_images = None\n",
        "        self.num_instances = OrderedDict()\n",
        "        self.num_train = OrderedDict()\n",
        "        self.num_val = OrderedDict()\n",
        "        self.num_test = OrderedDict()\n",
        "        self.load_data()\n",
        "\n",
        "    def load_data(self):\n",
        "        \"\"\"Gets all valid classes from data folder. Expects\n",
        "        each folder to contain image files pertaining to\n",
        "        the class that the folder represents.\n",
        "        \"\"\"\n",
        "        content = os.listdir(self.datapath)\n",
        "        classes = []\n",
        "        total_images = 0\n",
        "\n",
        "        # Check that each dir contains only images\n",
        "        for directory in content:\n",
        "            if self.verify_class(directory) is True:\n",
        "                classes.append(directory)\n",
        "                num_images = len(\n",
        "                    os.listdir(os.path.join(self.datapath, directory)))\n",
        "                self.num_instances[directory] = num_images\n",
        "                total_images += num_images\n",
        "\n",
        "        self.classes = classes\n",
        "        self.total_images = total_images\n",
        "\n",
        "    def verify_class(self, directory):\n",
        "        \"\"\"Verifies that class directory contains\n",
        "        all images only. Only supports JPG and PNG\n",
        "        images.\n",
        "        \"\"\"\n",
        "        valid_image_ext = ['.jpg', '.jpeg', '.png']\n",
        "        files = os.listdir(os.path.join(self.datapath, directory))\n",
        "\n",
        "        if len(files) > 0:\n",
        "            for file in files:\n",
        "                _, ext = os.path.splitext(file)\n",
        "                if ext not in valid_image_ext:\n",
        "                    return False\n",
        "            return True\n",
        "        else:\n",
        "            return False\n",
        "\n",
        "    def rename_images(self):\n",
        "        \"\"\"Helper function to rename all images inside a directory to\n",
        "        a standard naming scheme.\n",
        "        \"\"\"\n",
        "        for label in self.classes:\n",
        "            path = os.path.join(self.datapath, label)\n",
        "            for i, image in enumerate(os.listdir(path)):\n",
        "                _, ext = os.path.splitext(image)\n",
        "                new_name = label + str(i) + ext\n",
        "                src = os.path.join(path, image)\n",
        "                dst = os.path.join(path, new_name)\n",
        "                os.rename(src, dst)\n",
        "            print('Finished renaming images for class {}'.format(label))\n",
        "\n",
        "    def split_train_test_val(self, test_size=0.2, stratified=True):\n",
        "        \"\"\"Splits each valid folder of class images into\n",
        "        train/val/test directories.2\n",
        "        \"\"\"\n",
        "        train_dir = os.path.join(self.datapath, 'train')\n",
        "        validation_dir = os.path.join(self.datapath, 'validation')\n",
        "        test_dir = os.path.join(self.datapath, 'test')\n",
        "\n",
        "        # Make directories for train/val/test\n",
        "        for item in ['train', 'validation', 'test']:\n",
        "            os.makedirs(os.path.join(self.datapath, item), exist_ok=True)\n",
        "\n",
        "        # Split train/val/test for each class\n",
        "        for label in self.classes:\n",
        "            data_path = os.path.join(self.datapath, label)\n",
        "            num_examples = len(os.listdir(data_path))\n",
        "\n",
        "            # Make the directories\n",
        "            for directory in [train_dir, validation_dir, test_dir]:\n",
        "                os.makedirs(os.path.join(directory, label), exist_ok=True)\n",
        "\n",
        "            assert len(os.listdir(os.path.join(train_dir, label))) == 0, \\\n",
        "                'Train directory for {} is not empty.'.format(label)\n",
        "            assert len(os.listdir(os.path.join(validation_dir, label))) == 0, \\\n",
        "                'Validation directory for {} is not empty'.format(label)\n",
        "            assert len(os.listdir(os.path.join(test_dir, label))) == 0, \\\n",
        "                'Test directory for {} is not empty.'.format(label)\n",
        "\n",
        "            # Shuffle the data\n",
        "            datafiles = os.listdir(data_path)\n",
        "            random.shuffle(datafiles)\n",
        "\n",
        "            # Train-test split\n",
        "            num_test = math.floor(num_examples*0.2)\n",
        "            num_train = num_examples - num_test\n",
        "\n",
        "            # Train-validation split\n",
        "            num_val = math.floor(num_train*0.2)\n",
        "            num_train = num_train - num_val\n",
        "\n",
        "            # Train, validation, and test data\n",
        "            train_files = datafiles[:num_train]\n",
        "            val_files = datafiles[num_train:num_train+num_val]\n",
        "            test_files = datafiles[num_train+num_val:]\n",
        "\n",
        "            # Copy training data\n",
        "            train_dir_class = os.path.join(train_dir, label)\n",
        "            for filename in train_files:\n",
        "                src = os.path.join(data_path, filename)\n",
        "                dst = os.path.join(train_dir_class, filename)\n",
        "                shutil.copyfile(src, dst)\n",
        "\n",
        "            # Copy validation data\n",
        "            val_dir_class = os.path.join(validation_dir, label)\n",
        "            for filename in val_files:\n",
        "                src = os.path.join(data_path, filename)\n",
        "                dst = os.path.join(val_dir_class, filename)\n",
        "                shutil.copyfile(src, dst)\n",
        "\n",
        "            # Copy test data\n",
        "            test_dir_class = os.path.join(test_dir, label)\n",
        "            for filename in test_files:\n",
        "                src = os.path.join(data_path, filename)\n",
        "                dst = os.path.join(test_dir_class, filename)\n",
        "                shutil.copyfile(src, dst)\n",
        "\n",
        "            # Store number of instances\n",
        "            self.num_train[label] = len(os.listdir(train_dir_class))\n",
        "            self.num_val[label] = len(os.listdir(val_dir_class))\n",
        "            self.num_test[label] = len(os.listdir(test_dir_class))\n",
        "\n",
        "            print('Completed train/val/test split for class {}'.format(label))"
      ]
    },
    {
      "cell_type": "markdown",
      "metadata": {
        "id": "jDyO0DjN2gM8"
      },
      "source": [
        "## Construct Dataset"
      ]
    },
    {
      "cell_type": "code",
      "execution_count": null,
      "metadata": {
        "id": "si_7Po2C2gM8"
      },
      "outputs": [],
      "source": [
        "ROOT_DIR = '.'\n",
        "DATA_DIR = os.path.join(ROOT_DIR, 'data')\n",
        "\n",
        "dataset = DatasetPreparer(DATA_DIR)"
      ]
    },
    {
      "cell_type": "markdown",
      "metadata": {
        "id": "hCwAltDE2gM9"
      },
      "source": [
        "### Observe Number of Images Per Class"
      ]
    },
    {
      "cell_type": "code",
      "execution_count": null,
      "metadata": {
        "id": "v_DpuCc82gM9",
        "outputId": "662e99fc-ee45-40aa-9570-310544baf436"
      },
      "outputs": [
        {
          "name": "stdout",
          "output_type": "stream",
          "text": [
            "Total Images:  4062\n",
            "black_rot class has 1180 images.\n",
            "black_measles class has 1383 images.\n",
            "healthy class has 423 images.\n",
            "leaf_blight class has 1076 images.\n"
          ]
        }
      ],
      "source": [
        "num_images = dataset.num_instances.items()\n",
        "\n",
        "print('Total Images: ', dataset.total_images)\n",
        "for item in num_images:\n",
        "    print('{} class has {} images.'.format(item[0], item[1]))"
      ]
    },
    {
      "cell_type": "markdown",
      "metadata": {
        "id": "_W6PLyBZ2gM-"
      },
      "source": [
        "### Observe Distribution of Class Instances"
      ]
    },
    {
      "cell_type": "code",
      "execution_count": null,
      "metadata": {
        "id": "itodVBhY2gM-",
        "outputId": "a2df14dd-88b9-4981-c56e-ad96e96c0b3a"
      },
      "outputs": [
        {
          "name": "stdout",
          "output_type": "stream",
          "text": [
            "Percentage of black_rot class: 29.05%\n",
            "Percentage of black_measles class: 34.05%\n",
            "Percentage of healthy class: 10.41%\n",
            "Percentage of leaf_blight class: 26.49%\n"
          ]
        }
      ],
      "source": [
        "total_images = dataset.total_images\n",
        "\n",
        "for item in num_images:\n",
        "    pct = (item[1] / total_images) * 100.0\n",
        "    print('Percentage of {} class: {:.2f}%'.format(item[0], pct))"
      ]
    },
    {
      "cell_type": "code",
      "execution_count": null,
      "metadata": {
        "id": "2x4gsiPC2gM-",
        "outputId": "dcd49e9b-fc30-4dfc-dfdf-8218399bcfc3"
      },
      "outputs": [
        {
          "data": {
            "image/png": "[encoded data removed]",
            "text/plain": [
              "<Figure size 432x288 with 1 Axes>"
            ]
          },
          "metadata": {
            "needs_background": "light"
          },
          "output_type": "display_data"
        }
      ],
      "source": [
        "data = dataset.num_instances\n",
        "\n",
        "plt.bar(range(len(data)), data.values(), align='center')\n",
        "plt.xticks(range(len(data)), list(data.keys()))\n",
        "plt.xlabel('Classes')\n",
        "plt.ylabel('Count')\n",
        "plt.title('Distribution of Class Instances')\n",
        "plt.show();"
      ]
    },
    {
      "cell_type": "markdown",
      "metadata": {
        "id": "4-XIgPHA2gM_"
      },
      "source": [
        "It is observed that this dataset has a fair amount of imbalance (especially in the case of healthy class). Therefore, this projects included further considerations for performance metrics and handling of this imbalance."
      ]
    },
    {
      "cell_type": "markdown",
      "metadata": {
        "id": "9M34fHPp2gM_"
      },
      "source": [
        "### Rename Image Files"
      ]
    },
    {
      "cell_type": "markdown",
      "metadata": {
        "id": "r4kKpy7E2gM_"
      },
      "source": [
        "We want to standardize the naming scheme of the images belonging to a unique class. Therefore, the DataPreparer class has a method which renames all images to a standard form."
      ]
    },
    {
      "cell_type": "code",
      "execution_count": null,
      "metadata": {
        "id": "10a6lJQ02gM_"
      },
      "outputs": [],
      "source": [
        "# Only run once, no need to run again if already renamed\n",
        "#dataset.rename_images()"
      ]
    },
    {
      "cell_type": "markdown",
      "metadata": {
        "id": "QjED2Lcj2gM_"
      },
      "source": [
        "### Shuffle and Train-Validation-Test Split"
      ]
    },
    {
      "cell_type": "markdown",
      "metadata": {
        "id": "cJQAZese2gNA"
      },
      "source": [
        "We will not split our dataset into train, validation, and test sets. First we will randomize the images and apply a stratified split to consider the distribution of the dataset.\n",
        "\n",
        "We will allocate 80% for training and 20% for test. Then we will split the training set into 80% training and 20% validation.\n",
        "\n",
        "The dataset directory tree must follow a specific format for Keras to be able to correctly construct the data pipeline. The format is shown in the image below:\n",
        "\n",
        "![image](https://cdn-images-1.medium.com/max/800/1*HpvpA9pBJXKxaPCl5tKnLg.jpeg)"
      ]
    },
    {
      "cell_type": "code",
      "execution_count": null,
      "metadata": {
        "id": "mj68G4mH2gNA"
      },
      "outputs": [],
      "source": [
        "# Only run once, no need to run again if already split\n",
        "#dataset.split_train_test_val()"
      ]
    },
    {
      "cell_type": "markdown",
      "metadata": {
        "id": "2JYvkHcW2gNA"
      },
      "source": [
        "Run a sanity check to see that data distribution between train/validation/test is consistent."
      ]
    },
    {
      "cell_type": "code",
      "execution_count": null,
      "metadata": {
        "scrolled": true,
        "id": "97SyN6rE2gNA",
        "outputId": "02af4ca3-2c2e-4aaa-f228-8d575b3d7381"
      },
      "outputs": [
        {
          "name": "stdout",
          "output_type": "stream",
          "text": [
            "Total Images:  4062\n",
            "black_rot class has 1180 images.\n",
            "black_measles class has 1383 images.\n",
            "healthy class has 423 images.\n",
            "leaf_blight class has 1076 images.\n",
            "\n",
            "\n",
            "\n",
            "\n",
            "Percentage of black_rot class: 29.05%\n",
            "Percentage of black_measles class: 34.05%\n",
            "Percentage of healthy class: 10.41%\n",
            "Percentage of leaf_blight class: 26.49%\n",
            "\n",
            "\n",
            "\n"
          ]
        }
      ],
      "source": [
        "ROOT_DIR = '.'\n",
        "DATA_DIR = os.path.join(ROOT_DIR, 'data')\n",
        "\n",
        "# Total dataset\n",
        "print('Total Images: ', dataset.total_images)\n",
        "for item in num_images:\n",
        "    print('{} class has {} images.'.format(item[0], item[1]))\n",
        "print()\n",
        "for item in dataset.num_train.items():\n",
        "    print('Number of {} train images: {}'.format(item[0], item[1]))\n",
        "print()\n",
        "for item in dataset.num_val.items():\n",
        "    print('Number of {} validation images: {}'.format(item[0], item[1]))\n",
        "print()\n",
        "for item in dataset.num_test.items():\n",
        "    print('Number of {} test images: {}'.format(item[0], item[1]))\n",
        "print()\n",
        "for item in dataset.num_instances.items():\n",
        "    pct = (item[1] / dataset.total_images) * 100.0\n",
        "    print('Percentage of {} class: {:.2f}%'.format(item[0], pct))\n",
        "print()\n",
        "for item in dataset.num_train.items():\n",
        "    pct = item[1]/sum(dataset.num_train.values())*100.0\n",
        "    print('Percentage of train {} class: {:.2f}%'.format(item[0], pct))\n",
        "print()\n",
        "for item in dataset.num_val.items():\n",
        "    pct = item[1]/sum(dataset.num_val.values())*100.0\n",
        "    print('Percentage of validation {} class: {:.2f}%'.format(item[0], pct))\n",
        "print()\n",
        "for item in dataset.num_test.items():\n",
        "    pct = item[1]/sum(dataset.num_test.values())*100.0\n",
        "    print('Percentage of test {} class: {:.2f}%'.format(item[0], pct))"
      ]
    }
  ],
  "metadata": {
    "kernelspec": {
      "display_name": "Python 3",
      "language": "python",
      "name": "python3"
    },
    "language_info": {
      "codemirror_mode": {
        "name": "ipython",
        "version": 3
      },
      "file_extension": ".py",
      "mimetype": "text/x-python",
      "name": "python",
      "nbconvert_exporter": "python",
      "pygments_lexer": "ipython3",
      "version": "3.7.3"
    },
    "colab": {
      "provenance": [],
      "include_colab_link": true
    }
  },
  "nbformat": 4,
  "nbformat_minor": 0
}